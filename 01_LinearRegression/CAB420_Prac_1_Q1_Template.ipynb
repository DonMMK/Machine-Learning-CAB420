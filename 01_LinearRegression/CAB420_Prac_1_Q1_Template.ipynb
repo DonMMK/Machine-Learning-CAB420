{
 "cells": [
  {
   "cell_type": "markdown",
   "metadata": {},
   "source": [
    "# CAB420, Practical 1 - Question 1 Solution\n",
    "\n",
    "## Combining and Filtering Multiple Datasets\n",
    "\n",
    "CAB420 Tutorial1.zip contains a number of datasets, split into two directories as follows:\n",
    "* BOM, which contains Bureau of Meteorology data for Brisbane City from the years 1999-2019. The data is split into three files.\n",
    " * IDCJAC0009_040913_1800_Data.csv contains daily rainfall data;\n",
    " * IDCJAC0010_040913_1800_Data.csv contains maximum daily temperature data; and\n",
    " * IDCJAC0013_040913_1800_Data.csv contains daily solar exposure data.\n",
    "* BCCCyclewayCounts contains five years data (from 2014-2018) for Brisbane City Council cycleways, with data for each year being in a separate file (i.e. bike-ped-auto-counts-2014.csv contains data for the year 2014).\n",
    "\n",
    "You are to combine these datasets into a single table using Python (or the programming language of your choice such that):\n",
    "* You have a single table that spans the time period of the BCCCyclewayCounts data;\n",
    "* Duplicate information is avoided (i.e. you don’t have multiple date columns, or similar);\n",
    "* For the cycle way data, only columns that are available in all years data are included in the final table (i.e. if a counter is available in 2014 − 2017, but not 2018, that column should be excluded.\n",
    "\n",
    "### Suggested Packages\n",
    "\n",
    "The following packages are suggested, however there are many ways to approach things in python, if you'd rather use different pacakges that's cool too."
   ]
  },
  {
   "cell_type": "code",
   "execution_count": 1,
   "metadata": {},
   "outputs": [],
   "source": [
    "# numpy handles pretty much anything that is a number/vector/matrix/array\n",
    "import numpy as np\n",
    "# pandas handles dataframes\n",
    "import pandas as pd\n",
    "# matplotlib emulates Matlabs plotting functionality\n",
    "import matplotlib.pyplot as plt\n",
    "# stats models is a package that is going to perform the regression analysis\n",
    "from statsmodels import api as sm\n",
    "from scipy import stats\n",
    "from sklearn.metrics import mean_squared_error\n",
    "# os allows us to manipulate variables on out local machine, such as paths and environment variables\n",
    "import os\n",
    "# self explainatory, dates and times\n",
    "from datetime import datetime, date\n",
    "# a helper package to help us iterate over objects\n",
    "import itertools"
   ]
  },
  {
   "cell_type": "markdown",
   "metadata": {},
   "source": [
    "### Step 1: Load Weather Data\n",
    "\n",
    "You have three weather files to load. Each of these will have more data than we do in the cycling files, so only select data in the same data range as we have for the cycle counts (2014-2018).\n",
    "\n",
    "You may also wish to convert the data information that is in this data into a date object to make it easier to work with. If you wish to do this, you can convert the three date values in each row (Year, Month, Day) to a datetime object with the following function. You could use the ``apply()`` function that operates over a pandas dataframe to apply this to your tables.\n",
    "\n",
    "Ideally, it'd be good to merge these into one overall weather table. It's suggested to do a quick visualisation of your BOM data after it's loaded. The ``head()`` function is good for this. You may then want to remove some redundant columns. ``drop()`` can be used to achieve this."
   ]
  },
  {
   "cell_type": "code",
   "execution_count": 2,
   "metadata": {},
   "outputs": [],
   "source": [
    "def create_date(row):\n",
    "    # create string with date it format Y:m:d\n",
    "  return datetime.strptime('{:04d}/{:02d}/{:02d}'.format(row.Year, row.Month, row.Day),\n",
    "                           '%Y/%m/%d')"
   ]
  },
  {
   "cell_type": "code",
   "execution_count": 3,
   "metadata": {},
   "outputs": [],
   "source": []
  },
  {
   "cell_type": "markdown",
   "metadata": {},
   "source": [
    "### Step 2: Load BCC Data\n",
    "\n",
    "Now we need to load the BCC data. This will follow a broadly similar path to the BOM data:\n",
    "* Load the individual files\n",
    "* Convert the date. This data already has a date column, but you should check the format to make sure it's being parsed as a date object and not a string. The ``to_datetime()`` within the pandas dataframe class could be of use.\n",
    "* Merge the tables. To do this, you will need to look at what columns are in common between the five tables. You can create a list of column names, and use the intersection of this list to find the set of common columns.\n",
    "* Pull out the common columns from the individual tables, and merge the final results\n",
    "\n",
    "As with the BOM data, inspect the data after it has been merged."
   ]
  },
  {
   "cell_type": "code",
   "execution_count": 7,
   "metadata": {},
   "outputs": [],
   "source": []
  },
  {
   "cell_type": "markdown",
   "metadata": {},
   "source": [
    "### Step 3: Merge the Data\n",
    "\n",
    "Here, we can use the pandas ``merge()`` function to merge our two dataframes. Consider merging them based on the ``Date`` columns to make sure that entries line up.\n",
    "\n",
    "Visualise the merged dataset, and consider if there are any other columns that could be removed.\n",
    "\n",
    "Finally, you may want to save the dataset using the ``to_csv()`` function in the pandas dataframe object."
   ]
  },
  {
   "cell_type": "code",
   "execution_count": 9,
   "metadata": {},
   "outputs": [],
   "source": []
  }
 ],
 "metadata": {
  "kernelspec": {
   "display_name": "Python 3 (ipykernel)",
   "language": "python",
   "name": "python3"
  },
  "language_info": {
   "codemirror_mode": {
    "name": "ipython",
    "version": 3
   },
   "file_extension": ".py",
   "mimetype": "text/x-python",
   "name": "python",
   "nbconvert_exporter": "python",
   "pygments_lexer": "ipython3",
   "version": "3.8.10"
  }
 },
 "nbformat": 4,
 "nbformat_minor": 4
}
