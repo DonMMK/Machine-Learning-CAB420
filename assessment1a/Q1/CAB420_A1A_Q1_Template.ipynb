{
 "cells": [
  {
   "cell_type": "markdown",
   "id": "463a578e",
   "metadata": {},
   "source": [
    "# CAB420 Assignment 1A Question 1: Template\n",
    "Simon Denman (s.denman@qut.edu.au)\n",
    "\n",
    "## Overview\n",
    "\n"
   ]
  },
  {
   "cell_type": "code",
   "execution_count": 3,
   "id": "ff82158f",
   "metadata": {},
   "outputs": [],
   "source": [
    "import pandas\n",
    "\n",
    "train = pandas.read_csv('../Data/Q1/communities_train.csv')\n",
    "val = pandas.read_csv('../Data/Q1/communities_val.csv')\n",
    "test = pandas.read_csv('../Data/Q1/communities_test.csv')\n",
    "\n",
    "X_train = train.iloc[:,0:-1]\n",
    "y_train = train.iloc[:,-1]\n",
    "X_val = val.iloc[:,0:-1]\n",
    "y_val = val.iloc[:,-1]\n",
    "X_test = test.iloc[:,0:-1]\n",
    "y_test = test.iloc[:,-1]"
   ]
  },
  {
   "cell_type": "code",
   "execution_count": null,
   "id": "7cc71079",
   "metadata": {},
   "outputs": [],
   "source": []
  }
 ],
 "metadata": {
  "kernelspec": {
   "display_name": "Python 3 (ipykernel)",
   "language": "python",
   "name": "python3"
  },
  "language_info": {
   "codemirror_mode": {
    "name": "ipython",
    "version": 3
   },
   "file_extension": ".py",
   "mimetype": "text/x-python",
   "name": "python",
   "nbconvert_exporter": "python",
   "pygments_lexer": "ipython3",
   "version": "3.8.10"
  }
 },
 "nbformat": 4,
 "nbformat_minor": 5
}
